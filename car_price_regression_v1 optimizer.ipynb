{
 "cells": [
  {
   "cell_type": "code",
   "execution_count": 2,
   "metadata": {
    "collapsed": true
   },
   "outputs": [
    {
     "data": {
      "text/html": [
       "<div>\n",
       "<style scoped>\n",
       "    .dataframe tbody tr th:only-of-type {\n",
       "        vertical-align: middle;\n",
       "    }\n",
       "\n",
       "    .dataframe tbody tr th {\n",
       "        vertical-align: top;\n",
       "    }\n",
       "\n",
       "    .dataframe thead th {\n",
       "        text-align: right;\n",
       "    }\n",
       "</style>\n",
       "<table border=\"1\" class=\"dataframe\">\n",
       "  <thead>\n",
       "    <tr style=\"text-align: right;\">\n",
       "      <th></th>\n",
       "      <th>name</th>\n",
       "      <th>year</th>\n",
       "      <th>selling_price</th>\n",
       "      <th>km_driven</th>\n",
       "      <th>fuel</th>\n",
       "      <th>seller_type</th>\n",
       "      <th>transmission</th>\n",
       "      <th>owner</th>\n",
       "      <th>mileage</th>\n",
       "      <th>engine</th>\n",
       "      <th>max_power</th>\n",
       "      <th>torque</th>\n",
       "      <th>seats</th>\n",
       "    </tr>\n",
       "  </thead>\n",
       "  <tbody>\n",
       "    <tr>\n",
       "      <th>0</th>\n",
       "      <td>Maruti Swift Dzire VDI</td>\n",
       "      <td>2014</td>\n",
       "      <td>450000</td>\n",
       "      <td>145500</td>\n",
       "      <td>Diesel</td>\n",
       "      <td>Individual</td>\n",
       "      <td>Manual</td>\n",
       "      <td>First Owner</td>\n",
       "      <td>23.4 kmpl</td>\n",
       "      <td>1248 CC</td>\n",
       "      <td>74 bhp</td>\n",
       "      <td>190Nm@ 2000rpm</td>\n",
       "      <td>5.0</td>\n",
       "    </tr>\n",
       "    <tr>\n",
       "      <th>1</th>\n",
       "      <td>Skoda Rapid 1.5 TDI Ambition</td>\n",
       "      <td>2014</td>\n",
       "      <td>370000</td>\n",
       "      <td>120000</td>\n",
       "      <td>Diesel</td>\n",
       "      <td>Individual</td>\n",
       "      <td>Manual</td>\n",
       "      <td>Second Owner</td>\n",
       "      <td>21.14 kmpl</td>\n",
       "      <td>1498 CC</td>\n",
       "      <td>103.52 bhp</td>\n",
       "      <td>250Nm@ 1500-2500rpm</td>\n",
       "      <td>5.0</td>\n",
       "    </tr>\n",
       "    <tr>\n",
       "      <th>2</th>\n",
       "      <td>Honda City 2017-2020 EXi</td>\n",
       "      <td>2006</td>\n",
       "      <td>158000</td>\n",
       "      <td>140000</td>\n",
       "      <td>Petrol</td>\n",
       "      <td>Individual</td>\n",
       "      <td>Manual</td>\n",
       "      <td>Third Owner</td>\n",
       "      <td>17.7 kmpl</td>\n",
       "      <td>1497 CC</td>\n",
       "      <td>78 bhp</td>\n",
       "      <td>12.7@ 2,700(kgm@ rpm)</td>\n",
       "      <td>5.0</td>\n",
       "    </tr>\n",
       "    <tr>\n",
       "      <th>3</th>\n",
       "      <td>Hyundai i20 Sportz Diesel</td>\n",
       "      <td>2010</td>\n",
       "      <td>225000</td>\n",
       "      <td>127000</td>\n",
       "      <td>Diesel</td>\n",
       "      <td>Individual</td>\n",
       "      <td>Manual</td>\n",
       "      <td>First Owner</td>\n",
       "      <td>23.0 kmpl</td>\n",
       "      <td>1396 CC</td>\n",
       "      <td>90 bhp</td>\n",
       "      <td>22.4 kgm at 1750-2750rpm</td>\n",
       "      <td>5.0</td>\n",
       "    </tr>\n",
       "    <tr>\n",
       "      <th>4</th>\n",
       "      <td>Maruti Swift VXI BSIII</td>\n",
       "      <td>2007</td>\n",
       "      <td>130000</td>\n",
       "      <td>120000</td>\n",
       "      <td>Petrol</td>\n",
       "      <td>Individual</td>\n",
       "      <td>Manual</td>\n",
       "      <td>First Owner</td>\n",
       "      <td>16.1 kmpl</td>\n",
       "      <td>1298 CC</td>\n",
       "      <td>88.2 bhp</td>\n",
       "      <td>11.5@ 4,500(kgm@ rpm)</td>\n",
       "      <td>5.0</td>\n",
       "    </tr>\n",
       "  </tbody>\n",
       "</table>\n",
       "</div>"
      ],
      "text/plain": [
       "                           name  year  selling_price  km_driven    fuel  \\\n",
       "0        Maruti Swift Dzire VDI  2014         450000     145500  Diesel   \n",
       "1  Skoda Rapid 1.5 TDI Ambition  2014         370000     120000  Diesel   \n",
       "2      Honda City 2017-2020 EXi  2006         158000     140000  Petrol   \n",
       "3     Hyundai i20 Sportz Diesel  2010         225000     127000  Diesel   \n",
       "4        Maruti Swift VXI BSIII  2007         130000     120000  Petrol   \n",
       "\n",
       "  seller_type transmission         owner     mileage   engine   max_power  \\\n",
       "0  Individual       Manual   First Owner   23.4 kmpl  1248 CC      74 bhp   \n",
       "1  Individual       Manual  Second Owner  21.14 kmpl  1498 CC  103.52 bhp   \n",
       "2  Individual       Manual   Third Owner   17.7 kmpl  1497 CC      78 bhp   \n",
       "3  Individual       Manual   First Owner   23.0 kmpl  1396 CC      90 bhp   \n",
       "4  Individual       Manual   First Owner   16.1 kmpl  1298 CC    88.2 bhp   \n",
       "\n",
       "                     torque  seats  \n",
       "0            190Nm@ 2000rpm    5.0  \n",
       "1       250Nm@ 1500-2500rpm    5.0  \n",
       "2     12.7@ 2,700(kgm@ rpm)    5.0  \n",
       "3  22.4 kgm at 1750-2750rpm    5.0  \n",
       "4     11.5@ 4,500(kgm@ rpm)    5.0  "
      ]
     },
     "execution_count": 2,
     "metadata": {},
     "output_type": "execute_result"
    }
   ],
   "source": [
    "import pandas as pd\n",
    "# import train test split\n",
    "from sklearn.model_selection import train_test_split\n",
    "import torch\n",
    "\n",
    "df = pd.read_csv(\"Car details v3.csv\")\n",
    "df.head()"
   ]
  },
  {
   "cell_type": "code",
   "execution_count": 3,
   "metadata": {
    "collapsed": false
   },
   "outputs": [],
   "source": [
    "df[\"engine\"]=df[\"engine\"].str.split(\" \", expand=True)[0]\n",
    "df[\"max_power\"]=df[\"max_power\"].str.split(\" \", expand=True)[0]\n",
    "df[\"mileage\"]=df[\"mileage\"].str.split(\" \", expand=True)[0]"
   ]
  },
  {
   "cell_type": "code",
   "execution_count": 4,
   "metadata": {
    "collapsed": false
   },
   "outputs": [
    {
     "data": {
      "text/plain": [
       "2058"
      ]
     },
     "execution_count": 4,
     "metadata": {},
     "output_type": "execute_result"
    }
   ],
   "source": [
    "len(df[\"name\"].unique())"
   ]
  },
  {
   "cell_type": "code",
   "execution_count": 5,
   "metadata": {},
   "outputs": [],
   "source": [
    "df[\"brand\"]=df[\"name\"].str.split(\" \", expand=True)[0]\n",
    "df[\"model\"]=df[\"name\"].str.split(\" \", expand=True)[1]"
   ]
  },
  {
   "cell_type": "code",
   "execution_count": 6,
   "metadata": {
    "collapsed": false
   },
   "outputs": [],
   "source": [
    "df = df.drop(\"name\", axis=1)\n",
    "df = df.drop(\"torque\", axis=1)"
   ]
  },
  {
   "cell_type": "code",
   "execution_count": 7,
   "metadata": {
    "collapsed": false
   },
   "outputs": [
    {
     "name": "stdout",
     "output_type": "stream",
     "text": [
      "<class 'pandas.core.frame.DataFrame'>\n",
      "RangeIndex: 8128 entries, 0 to 8127\n",
      "Data columns (total 13 columns):\n",
      " #   Column         Non-Null Count  Dtype  \n",
      "---  ------         --------------  -----  \n",
      " 0   year           8128 non-null   int64  \n",
      " 1   selling_price  8128 non-null   int64  \n",
      " 2   km_driven      8128 non-null   int64  \n",
      " 3   fuel           8128 non-null   object \n",
      " 4   seller_type    8128 non-null   object \n",
      " 5   transmission   8128 non-null   object \n",
      " 6   owner          8128 non-null   object \n",
      " 7   mileage        7907 non-null   object \n",
      " 8   engine         7907 non-null   object \n",
      " 9   max_power      7913 non-null   object \n",
      " 10  seats          7907 non-null   float64\n",
      " 11  brand          8128 non-null   object \n",
      " 12  model          8128 non-null   object \n",
      "dtypes: float64(1), int64(3), object(9)\n",
      "memory usage: 825.6+ KB\n"
     ]
    }
   ],
   "source": [
    "df.info()"
   ]
  },
  {
   "cell_type": "code",
   "execution_count": 8,
   "metadata": {
    "collapsed": false
   },
   "outputs": [],
   "source": [
    "# convert mileage, engine, max_power to float\n",
    "df[\"mileage\"] = df[\"mileage\"].astype(float)\n",
    "df[\"engine\"] = df[\"engine\"].astype(float)"
   ]
  },
  {
   "cell_type": "code",
   "execution_count": 9,
   "metadata": {
    "collapsed": false
   },
   "outputs": [],
   "source": [
    "# replace empty string with mean of max_power\n",
    "df[\"max_power\"] = df[\"max_power\"].replace(\"\", 100)\n",
    "df[\"max_power\"] = df[\"max_power\"].astype(float)"
   ]
  },
  {
   "cell_type": "code",
   "execution_count": 10,
   "metadata": {
    "collapsed": false
   },
   "outputs": [],
   "source": [
    "# fill missing values\n",
    "df[\"engine\"] = df[\"engine\"].fillna(df[\"engine\"].mean())\n",
    "df[\"max_power\"] = df[\"max_power\"].fillna(df[\"max_power\"].mean())\n",
    "df[\"mileage\"] = df[\"mileage\"].fillna(df[\"mileage\"].mean())\n",
    "df[\"seats\"] = df[\"seats\"].fillna(df[\"seats\"].mean())"
   ]
  },
  {
   "cell_type": "code",
   "execution_count": 11,
   "metadata": {
    "collapsed": false
   },
   "outputs": [],
   "source": [
    "import numpy as np\n",
    "y = df[\"selling_price\"]\n",
    "y = np.log(y)\n",
    "df = df.drop(\"selling_price\", axis=1)"
   ]
  },
  {
   "cell_type": "code",
   "execution_count": 12,
   "metadata": {
    "collapsed": false
   },
   "outputs": [
    {
     "data": {
      "text/html": [
       "<div>\n",
       "<style scoped>\n",
       "    .dataframe tbody tr th:only-of-type {\n",
       "        vertical-align: middle;\n",
       "    }\n",
       "\n",
       "    .dataframe tbody tr th {\n",
       "        vertical-align: top;\n",
       "    }\n",
       "\n",
       "    .dataframe thead th {\n",
       "        text-align: right;\n",
       "    }\n",
       "</style>\n",
       "<table border=\"1\" class=\"dataframe\">\n",
       "  <thead>\n",
       "    <tr style=\"text-align: right;\">\n",
       "      <th></th>\n",
       "      <th>year</th>\n",
       "      <th>km_driven</th>\n",
       "      <th>fuel</th>\n",
       "      <th>seller_type</th>\n",
       "      <th>transmission</th>\n",
       "      <th>owner</th>\n",
       "      <th>mileage</th>\n",
       "      <th>engine</th>\n",
       "      <th>max_power</th>\n",
       "      <th>seats</th>\n",
       "      <th>brand</th>\n",
       "      <th>model</th>\n",
       "    </tr>\n",
       "  </thead>\n",
       "  <tbody>\n",
       "    <tr>\n",
       "      <th>0</th>\n",
       "      <td>2014</td>\n",
       "      <td>145500</td>\n",
       "      <td>Diesel</td>\n",
       "      <td>Individual</td>\n",
       "      <td>Manual</td>\n",
       "      <td>First Owner</td>\n",
       "      <td>23.40</td>\n",
       "      <td>1248.0</td>\n",
       "      <td>74.00</td>\n",
       "      <td>5.0</td>\n",
       "      <td>Maruti</td>\n",
       "      <td>Swift</td>\n",
       "    </tr>\n",
       "    <tr>\n",
       "      <th>1</th>\n",
       "      <td>2014</td>\n",
       "      <td>120000</td>\n",
       "      <td>Diesel</td>\n",
       "      <td>Individual</td>\n",
       "      <td>Manual</td>\n",
       "      <td>Second Owner</td>\n",
       "      <td>21.14</td>\n",
       "      <td>1498.0</td>\n",
       "      <td>103.52</td>\n",
       "      <td>5.0</td>\n",
       "      <td>Skoda</td>\n",
       "      <td>Rapid</td>\n",
       "    </tr>\n",
       "    <tr>\n",
       "      <th>2</th>\n",
       "      <td>2006</td>\n",
       "      <td>140000</td>\n",
       "      <td>Petrol</td>\n",
       "      <td>Individual</td>\n",
       "      <td>Manual</td>\n",
       "      <td>Third Owner</td>\n",
       "      <td>17.70</td>\n",
       "      <td>1497.0</td>\n",
       "      <td>78.00</td>\n",
       "      <td>5.0</td>\n",
       "      <td>Honda</td>\n",
       "      <td>City</td>\n",
       "    </tr>\n",
       "    <tr>\n",
       "      <th>3</th>\n",
       "      <td>2010</td>\n",
       "      <td>127000</td>\n",
       "      <td>Diesel</td>\n",
       "      <td>Individual</td>\n",
       "      <td>Manual</td>\n",
       "      <td>First Owner</td>\n",
       "      <td>23.00</td>\n",
       "      <td>1396.0</td>\n",
       "      <td>90.00</td>\n",
       "      <td>5.0</td>\n",
       "      <td>Hyundai</td>\n",
       "      <td>i20</td>\n",
       "    </tr>\n",
       "    <tr>\n",
       "      <th>4</th>\n",
       "      <td>2007</td>\n",
       "      <td>120000</td>\n",
       "      <td>Petrol</td>\n",
       "      <td>Individual</td>\n",
       "      <td>Manual</td>\n",
       "      <td>First Owner</td>\n",
       "      <td>16.10</td>\n",
       "      <td>1298.0</td>\n",
       "      <td>88.20</td>\n",
       "      <td>5.0</td>\n",
       "      <td>Maruti</td>\n",
       "      <td>Swift</td>\n",
       "    </tr>\n",
       "  </tbody>\n",
       "</table>\n",
       "</div>"
      ],
      "text/plain": [
       "   year  km_driven    fuel seller_type transmission         owner  mileage  \\\n",
       "0  2014     145500  Diesel  Individual       Manual   First Owner    23.40   \n",
       "1  2014     120000  Diesel  Individual       Manual  Second Owner    21.14   \n",
       "2  2006     140000  Petrol  Individual       Manual   Third Owner    17.70   \n",
       "3  2010     127000  Diesel  Individual       Manual   First Owner    23.00   \n",
       "4  2007     120000  Petrol  Individual       Manual   First Owner    16.10   \n",
       "\n",
       "   engine  max_power  seats    brand  model  \n",
       "0  1248.0      74.00    5.0   Maruti  Swift  \n",
       "1  1498.0     103.52    5.0    Skoda  Rapid  \n",
       "2  1497.0      78.00    5.0    Honda   City  \n",
       "3  1396.0      90.00    5.0  Hyundai    i20  \n",
       "4  1298.0      88.20    5.0   Maruti  Swift  "
      ]
     },
     "execution_count": 12,
     "metadata": {},
     "output_type": "execute_result"
    }
   ],
   "source": [
    "df.head()"
   ]
  },
  {
   "cell_type": "code",
   "execution_count": 13,
   "metadata": {
    "collapsed": false
   },
   "outputs": [
    {
     "name": "stdout",
     "output_type": "stream",
     "text": [
      "<class 'pandas.core.frame.DataFrame'>\n",
      "RangeIndex: 8128 entries, 0 to 8127\n",
      "Data columns (total 12 columns):\n",
      " #   Column        Non-Null Count  Dtype  \n",
      "---  ------        --------------  -----  \n",
      " 0   year          8128 non-null   int64  \n",
      " 1   km_driven     8128 non-null   int64  \n",
      " 2   fuel          8128 non-null   object \n",
      " 3   seller_type   8128 non-null   object \n",
      " 4   transmission  8128 non-null   object \n",
      " 5   owner         8128 non-null   object \n",
      " 6   mileage       8128 non-null   float64\n",
      " 7   engine        8128 non-null   float64\n",
      " 8   max_power     8128 non-null   float64\n",
      " 9   seats         8128 non-null   float64\n",
      " 10  brand         8128 non-null   object \n",
      " 11  model         8128 non-null   object \n",
      "dtypes: float64(4), int64(2), object(6)\n",
      "memory usage: 762.1+ KB\n"
     ]
    }
   ],
   "source": [
    "df.info()"
   ]
  },
  {
   "cell_type": "code",
   "execution_count": 14,
   "metadata": {
    "collapsed": false
   },
   "outputs": [
    {
     "data": {
      "text/html": [
       "<div>\n",
       "<style scoped>\n",
       "    .dataframe tbody tr th:only-of-type {\n",
       "        vertical-align: middle;\n",
       "    }\n",
       "\n",
       "    .dataframe tbody tr th {\n",
       "        vertical-align: top;\n",
       "    }\n",
       "\n",
       "    .dataframe thead th {\n",
       "        text-align: right;\n",
       "    }\n",
       "</style>\n",
       "<table border=\"1\" class=\"dataframe\">\n",
       "  <thead>\n",
       "    <tr style=\"text-align: right;\">\n",
       "      <th></th>\n",
       "      <th>year</th>\n",
       "      <th>km_driven</th>\n",
       "      <th>fuel</th>\n",
       "      <th>seller_type</th>\n",
       "      <th>transmission</th>\n",
       "      <th>owner</th>\n",
       "      <th>mileage</th>\n",
       "      <th>engine</th>\n",
       "      <th>max_power</th>\n",
       "      <th>seats</th>\n",
       "      <th>brand</th>\n",
       "      <th>model</th>\n",
       "    </tr>\n",
       "  </thead>\n",
       "  <tbody>\n",
       "    <tr>\n",
       "      <th>0</th>\n",
       "      <td>2014</td>\n",
       "      <td>145500</td>\n",
       "      <td>1</td>\n",
       "      <td>1</td>\n",
       "      <td>1</td>\n",
       "      <td>0</td>\n",
       "      <td>23.40</td>\n",
       "      <td>1248.0</td>\n",
       "      <td>74.00</td>\n",
       "      <td>5.0</td>\n",
       "      <td>20</td>\n",
       "      <td>161</td>\n",
       "    </tr>\n",
       "    <tr>\n",
       "      <th>1</th>\n",
       "      <td>2014</td>\n",
       "      <td>120000</td>\n",
       "      <td>1</td>\n",
       "      <td>1</td>\n",
       "      <td>1</td>\n",
       "      <td>2</td>\n",
       "      <td>21.14</td>\n",
       "      <td>1498.0</td>\n",
       "      <td>103.52</td>\n",
       "      <td>5.0</td>\n",
       "      <td>27</td>\n",
       "      <td>135</td>\n",
       "    </tr>\n",
       "    <tr>\n",
       "      <th>2</th>\n",
       "      <td>2006</td>\n",
       "      <td>140000</td>\n",
       "      <td>3</td>\n",
       "      <td>1</td>\n",
       "      <td>1</td>\n",
       "      <td>4</td>\n",
       "      <td>17.70</td>\n",
       "      <td>1497.0</td>\n",
       "      <td>78.00</td>\n",
       "      <td>5.0</td>\n",
       "      <td>10</td>\n",
       "      <td>36</td>\n",
       "    </tr>\n",
       "    <tr>\n",
       "      <th>3</th>\n",
       "      <td>2010</td>\n",
       "      <td>127000</td>\n",
       "      <td>1</td>\n",
       "      <td>1</td>\n",
       "      <td>1</td>\n",
       "      <td>0</td>\n",
       "      <td>23.00</td>\n",
       "      <td>1396.0</td>\n",
       "      <td>90.00</td>\n",
       "      <td>5.0</td>\n",
       "      <td>11</td>\n",
       "      <td>206</td>\n",
       "    </tr>\n",
       "    <tr>\n",
       "      <th>4</th>\n",
       "      <td>2007</td>\n",
       "      <td>120000</td>\n",
       "      <td>3</td>\n",
       "      <td>1</td>\n",
       "      <td>1</td>\n",
       "      <td>0</td>\n",
       "      <td>16.10</td>\n",
       "      <td>1298.0</td>\n",
       "      <td>88.20</td>\n",
       "      <td>5.0</td>\n",
       "      <td>20</td>\n",
       "      <td>161</td>\n",
       "    </tr>\n",
       "  </tbody>\n",
       "</table>\n",
       "</div>"
      ],
      "text/plain": [
       "   year  km_driven  fuel  seller_type  transmission  owner  mileage  engine  \\\n",
       "0  2014     145500     1            1             1      0    23.40  1248.0   \n",
       "1  2014     120000     1            1             1      2    21.14  1498.0   \n",
       "2  2006     140000     3            1             1      4    17.70  1497.0   \n",
       "3  2010     127000     1            1             1      0    23.00  1396.0   \n",
       "4  2007     120000     3            1             1      0    16.10  1298.0   \n",
       "\n",
       "   max_power  seats  brand  model  \n",
       "0      74.00    5.0     20    161  \n",
       "1     103.52    5.0     27    135  \n",
       "2      78.00    5.0     10     36  \n",
       "3      90.00    5.0     11    206  \n",
       "4      88.20    5.0     20    161  "
      ]
     },
     "execution_count": 14,
     "metadata": {},
     "output_type": "execute_result"
    }
   ],
   "source": [
    "# convert categorical data to numerical data with sklearn LabelEncoder\n",
    "from sklearn.preprocessing import LabelEncoder\n",
    "encoder = LabelEncoder()\n",
    "for col in df.columns:\n",
    "    if df[col].dtype == \"object\":\n",
    "        df[col] = encoder.fit_transform(df[col])\n",
    "df.head()"
   ]
  },
  {
   "cell_type": "code",
   "execution_count": 15,
   "metadata": {
    "collapsed": false
   },
   "outputs": [
    {
     "data": {
      "text/html": [
       "<div>\n",
       "<style scoped>\n",
       "    .dataframe tbody tr th:only-of-type {\n",
       "        vertical-align: middle;\n",
       "    }\n",
       "\n",
       "    .dataframe tbody tr th {\n",
       "        vertical-align: top;\n",
       "    }\n",
       "\n",
       "    .dataframe thead th {\n",
       "        text-align: right;\n",
       "    }\n",
       "</style>\n",
       "<table border=\"1\" class=\"dataframe\">\n",
       "  <thead>\n",
       "    <tr style=\"text-align: right;\">\n",
       "      <th></th>\n",
       "      <th>0</th>\n",
       "      <th>1</th>\n",
       "      <th>2</th>\n",
       "      <th>3</th>\n",
       "      <th>4</th>\n",
       "      <th>5</th>\n",
       "      <th>6</th>\n",
       "      <th>7</th>\n",
       "      <th>8</th>\n",
       "      <th>9</th>\n",
       "      <th>10</th>\n",
       "      <th>11</th>\n",
       "    </tr>\n",
       "  </thead>\n",
       "  <tbody>\n",
       "    <tr>\n",
       "      <th>0</th>\n",
       "      <td>0.048464</td>\n",
       "      <td>1.338363</td>\n",
       "      <td>-0.889115</td>\n",
       "      <td>0.277607</td>\n",
       "      <td>0.385158</td>\n",
       "      <td>-0.666639</td>\n",
       "      <td>0.999896</td>\n",
       "      <td>-0.423804</td>\n",
       "      <td>-0.495710</td>\n",
       "      <td>-0.440324</td>\n",
       "      <td>0.272216</td>\n",
       "      <td>0.814603</td>\n",
       "    </tr>\n",
       "    <tr>\n",
       "      <th>1</th>\n",
       "      <td>0.048464</td>\n",
       "      <td>0.887411</td>\n",
       "      <td>-0.889115</td>\n",
       "      <td>0.277607</td>\n",
       "      <td>0.385158</td>\n",
       "      <td>0.970600</td>\n",
       "      <td>0.432289</td>\n",
       "      <td>0.079227</td>\n",
       "      <td>0.339576</td>\n",
       "      <td>-0.440324</td>\n",
       "      <td>1.222516</td>\n",
       "      <td>0.413031</td>\n",
       "    </tr>\n",
       "    <tr>\n",
       "      <th>2</th>\n",
       "      <td>-1.929775</td>\n",
       "      <td>1.241098</td>\n",
       "      <td>1.106392</td>\n",
       "      <td>0.277607</td>\n",
       "      <td>0.385158</td>\n",
       "      <td>2.607839</td>\n",
       "      <td>-0.431678</td>\n",
       "      <td>0.077215</td>\n",
       "      <td>-0.382528</td>\n",
       "      <td>-0.440324</td>\n",
       "      <td>-1.085356</td>\n",
       "      <td>-1.116034</td>\n",
       "    </tr>\n",
       "    <tr>\n",
       "      <th>3</th>\n",
       "      <td>-0.940656</td>\n",
       "      <td>1.011202</td>\n",
       "      <td>-0.889115</td>\n",
       "      <td>0.277607</td>\n",
       "      <td>0.385158</td>\n",
       "      <td>-0.666639</td>\n",
       "      <td>0.899435</td>\n",
       "      <td>-0.126009</td>\n",
       "      <td>-0.042981</td>\n",
       "      <td>-0.440324</td>\n",
       "      <td>-0.949599</td>\n",
       "      <td>1.509633</td>\n",
       "    </tr>\n",
       "    <tr>\n",
       "      <th>4</th>\n",
       "      <td>-1.682495</td>\n",
       "      <td>0.887411</td>\n",
       "      <td>1.106392</td>\n",
       "      <td>0.277607</td>\n",
       "      <td>0.385158</td>\n",
       "      <td>-0.666639</td>\n",
       "      <td>-0.833524</td>\n",
       "      <td>-0.323198</td>\n",
       "      <td>-0.093913</td>\n",
       "      <td>-0.440324</td>\n",
       "      <td>0.272216</td>\n",
       "      <td>0.814603</td>\n",
       "    </tr>\n",
       "  </tbody>\n",
       "</table>\n",
       "</div>"
      ],
      "text/plain": [
       "         0         1         2         3         4         5         6   \\\n",
       "0  0.048464  1.338363 -0.889115  0.277607  0.385158 -0.666639  0.999896   \n",
       "1  0.048464  0.887411 -0.889115  0.277607  0.385158  0.970600  0.432289   \n",
       "2 -1.929775  1.241098  1.106392  0.277607  0.385158  2.607839 -0.431678   \n",
       "3 -0.940656  1.011202 -0.889115  0.277607  0.385158 -0.666639  0.899435   \n",
       "4 -1.682495  0.887411  1.106392  0.277607  0.385158 -0.666639 -0.833524   \n",
       "\n",
       "         7         8         9         10        11  \n",
       "0 -0.423804 -0.495710 -0.440324  0.272216  0.814603  \n",
       "1  0.079227  0.339576 -0.440324  1.222516  0.413031  \n",
       "2  0.077215 -0.382528 -0.440324 -1.085356 -1.116034  \n",
       "3 -0.126009 -0.042981 -0.440324 -0.949599  1.509633  \n",
       "4 -0.323198 -0.093913 -0.440324  0.272216  0.814603  "
      ]
     },
     "execution_count": 15,
     "metadata": {},
     "output_type": "execute_result"
    }
   ],
   "source": [
    "from sklearn.preprocessing import StandardScaler\n",
    "\n",
    "scaler = StandardScaler()\n",
    "df = scaler.fit_transform(df)\n",
    "df = pd.DataFrame(df)\n",
    "df.head()"
   ]
  },
  {
   "cell_type": "code",
   "execution_count": 16,
   "metadata": {
    "collapsed": false
   },
   "outputs": [],
   "source": [
    "#df = df[:1000]\n",
    "#y = y[:1000]"
   ]
  },
  {
   "cell_type": "code",
   "execution_count": 17,
   "metadata": {
    "collapsed": false
   },
   "outputs": [],
   "source": [
    "x_train, x_test, y_train, y_test = train_test_split(df, y, test_size=0.2, random_state=42)\n",
    "x_train = torch.tensor(x_train.values, dtype=torch.float)\n",
    "x_test = torch.tensor(x_test.values, dtype=torch.float)\n",
    "y_train = torch.tensor(y_train.values, dtype=torch.float)\n",
    "y_test= torch.tensor(y_test.values, dtype=torch.float)"
   ]
  },
  {
   "cell_type": "code",
   "execution_count": 18,
   "metadata": {
    "collapsed": false
   },
   "outputs": [],
   "source": [
    "class MySimpleNN(torch.nn.Module):   # MySimpleNN erbt von torch.nn.Module\n",
    "\n",
    "    # Konstruktor\n",
    "    def __init__(self, input_size=10, hidden_size=(10, 20, 10), output_size=1):\n",
    "        # Aufruf des Superkonstruktors von torch.nn.Module\n",
    "        super(MySimpleNN, self).__init__()\n",
    "        self.fc1 = torch.nn.Linear(input_size, hidden_size[0])\n",
    "        self.fc2 = torch.nn.Linear(hidden_size[0], hidden_size[1])\n",
    "        self.fc3 = torch.nn.Linear(hidden_size[1], hidden_size[2])\n",
    "        self.fc4 = torch.nn.Linear(hidden_size[2], output_size)\n",
    "\n",
    "        # Batch Normalization\n",
    "        self.bn1 = torch.nn.BatchNorm1d(hidden_size[0])\n",
    "        self.bn2 = torch.nn.BatchNorm1d(hidden_size[1])\n",
    "        self.bn3 = torch.nn.BatchNorm1d(hidden_size[2])\n",
    "\n",
    "    # forward Methode -> Forward Propagation\n",
    "    # wenn ich später ein Objekt von MySimpleNN erzeuge, dann kann ich\n",
    "    # dieses Objekt mit einem Tensor aufrufen, dann wird die forward Methode\n",
    "    # aufgerufen. z.B. model(x_train)\n",
    "    def forward(self, xb):   # xb steht für eine Batch von X-Werten\n",
    "        #print(\"xb\", xb.shape)\n",
    "        z2 = self.fc1(xb)  # dahinter steckt x@w1 + b1\n",
    "        a2 = torch.relu(z2)    # alle negativen Werte werden auf 0 gesetzt, der Rest bleibt\n",
    "        #print(\"a2\", a2.shape)\n",
    "        a2_bn = self.bn1(a2) # Normalisierung der Werte auf den Neuronen\n",
    "        #print(\"a2_bn\", a2_bn.shape)\n",
    "        z3 = self.fc2(a2_bn) # dahinter steckt a2@w2 + b2\n",
    "        #print(\"z3\", z3.shape)\n",
    "        a3 = torch.relu(z3)\n",
    "        #print(\"a3\", a3.shape)\n",
    "        a3_bn = self.bn2(a3)\n",
    "        #print(\"a3_bn\", a3_bn.shape)\n",
    "        z4 = self.fc3(a3_bn)\n",
    "        #print(\"z4\", z4.shape)\n",
    "        a4 = torch.relu(z4)\n",
    "        #print(\"a4\", a4.shape)\n",
    "        a4_bn = self.bn3(a4)\n",
    "        #print(\"a4_bn\", a4_bn.shape)\n",
    "        y_hat = torch.relu(self.fc4(a4_bn))\n",
    "        #print(\"y_hat\", y_hat.shape)\n",
    "        return y_hat"
   ]
  },
  {
   "cell_type": "code",
   "execution_count": 19,
   "metadata": {
    "collapsed": false
   },
   "outputs": [],
   "source": [
    "def get_batch(x, y, batch_size):\n",
    "    # z.B. range(0, 10, 3) --> 0, 3, 6, 9\n",
    "    # range(start, stop, step)\n",
    "    for i in range(0, len(x), batch_size):\n",
    "        # yield: gibt den Wert zurück, aber merkt sich den aktuellen Zustand\n",
    "        yield x[i:i+batch_size], y[i:i+batch_size]"
   ]
  },
  {
   "cell_type": "code",
   "execution_count": 20,
   "metadata": {
    "collapsed": false
   },
   "outputs": [
    {
     "name": "stdout",
     "output_type": "stream",
     "text": [
      "torch.Size([100, 1])\n"
     ]
    }
   ],
   "source": [
    "xb, yb = next(get_batch(x_train, y_train, batch_size=100))\n",
    "model = MySimpleNN(input_size=12, hidden_size=(30, 40, 10), output_size=1)\n",
    "print(model(xb).shape)"
   ]
  },
  {
   "cell_type": "code",
   "execution_count": 42,
   "metadata": {
    "collapsed": false,
    "pycharm": {
     "is_executing": true
    }
   },
   "outputs": [
    {
     "name": "stdout",
     "output_type": "stream",
     "text": [
      "Epoch:  0 Loss:  0.6619468625601678 current_lr:  0.0001\n",
      "Epoch:  10 Loss:  0.6001800659142139 current_lr:  0.0001\n",
      "Epoch:  20 Loss:  0.5558784670259211 current_lr:  0.0001\n",
      "Epoch:  30 Loss:  0.5169683671738323 current_lr:  0.0001\n",
      "Epoch:  40 Loss:  0.4798012178738423 current_lr:  0.0001\n",
      "Epoch:  50 Loss:  0.44474603916380595 current_lr:  0.0001\n",
      "Epoch:  60 Loss:  0.41121522333760585 current_lr:  0.0001\n",
      "Epoch:  70 Loss:  0.3772327971069749 current_lr:  0.0001\n",
      "Epoch:  80 Loss:  0.3437977805206571 current_lr:  0.0001\n",
      "Epoch:  90 Loss:  0.3149033062130222 current_lr:  0.0001\n",
      "Epoch:  100 Loss:  0.28908620603779067 current_lr:  0.0001\n",
      "Epoch:  110 Loss:  0.2660132795068089 current_lr:  0.0001\n",
      "Epoch:  120 Loss:  0.24192178891057858 current_lr:  0.0001\n",
      "Epoch:  130 Loss:  0.22043234955087437 current_lr:  0.0001\n",
      "Epoch:  140 Loss:  0.19472605688540395 current_lr:  0.0001\n",
      "Epoch:  150 Loss:  0.16634605921660522 current_lr:  0.0001\n",
      "Epoch:  160 Loss:  0.14098260997442494 current_lr:  0.0001\n",
      "Epoch:  170 Loss:  0.11856286381252433 current_lr:  0.0001\n",
      "Epoch:  180 Loss:  0.1030298040595945 current_lr:  0.0001\n",
      "Epoch:  190 Loss:  0.09341513886887343 current_lr:  0.0001\n",
      "Epoch:  200 Loss:  0.08839722143177324 current_lr:  0.0001\n",
      "Epoch:  210 Loss:  0.0853580463412944 current_lr:  0.0001\n",
      "Epoch:  220 Loss:  0.08253645698901728 current_lr:  0.0001\n",
      "Epoch:  230 Loss:  0.07798421291232806 current_lr:  0.0001\n",
      "Epoch:  240 Loss:  0.07090971925301905 current_lr:  0.0001\n",
      "Epoch:  250 Loss:  0.058200806260145614 current_lr:  0.0001\n",
      "Epoch:  260 Loss:  0.03823457978681871 current_lr:  0.0001\n",
      "Epoch:  270 Loss:  0.028808946427621315 current_lr:  0.0001\n",
      "Epoch:  280 Loss:  0.018495667131084255 current_lr:  0.0001\n",
      "Epoch:  290 Loss:  0.014666042412951776 current_lr:  0.0001\n",
      "Epoch:  300 Loss:  0.01361077556387163 current_lr:  1e-05\n",
      "Epoch:  310 Loss:  0.012925462460965239 current_lr:  1e-05\n",
      "Epoch:  320 Loss:  0.012724662644794925 current_lr:  1e-05\n",
      "Epoch:  330 Loss:  0.011829081350970144 current_lr:  1e-05\n",
      "Epoch:  340 Loss:  0.01114962704912841 current_lr:  1e-05\n",
      "Epoch:  350 Loss:  0.010365609222835704 current_lr:  1e-05\n",
      "Epoch:  360 Loss:  0.01022548412990658 current_lr:  1.0000000000000002e-06\n",
      "Epoch:  370 Loss:  0.010206414163754339 current_lr:  1.0000000000000004e-08\n",
      "Epoch:  380 Loss:  0.010205803963266055 current_lr:  1.0000000000000004e-08\n",
      "Epoch:  390 Loss:  0.010205189967588145 current_lr:  1.0000000000000004e-08\n"
     ]
    },
    {
     "data": {
      "text/plain": [
       "[<matplotlib.lines.Line2D at 0x7efcf733a710>]"
      ]
     },
     "execution_count": 42,
     "metadata": {},
     "output_type": "execute_result"
    },
    {
     "data": {
      "image/png": "[encoded data removed]",
      "text/plain": [
       "<Figure size 640x480 with 1 Axes>"
      ]
     },
     "metadata": {},
     "output_type": "display_data"
    }
   ],
   "source": [
    "# eigenes Modell wird erstellt\n",
    "model = MySimpleNN(input_size=12, hidden_size=(30, 40, 10), output_size=1)\n",
    "lr=0.0001\n",
    "# trainiere immer mit 10 Datensätzen auf einmal\n",
    "batch_size=256\n",
    "\n",
    "# loss function\n",
    "# Mean Squared Error\n",
    "# die Lossfunction von Pytorch müssen erstmal erstellt werden mit ()\n",
    "loss_fn = torch.nn.MSELoss()\n",
    "optimizer = torch.optim.Adam(model.parameters(), lr=lr)\n",
    "# lernrate scheduler\n",
    "\n",
    "\n",
    "scheduler = torch.optim.lr_scheduler.ReduceLROnPlateau(optimizer, mode='min', factor=0.1, patience=3)\n",
    "\n",
    "def train(xb, yb):\n",
    "    y_hat=model(xb)\n",
    "    loss = loss_fn(y_hat, yb)\n",
    "    loss.backward()\n",
    "    optimizer.step()\n",
    "    return loss.item()\n",
    "\n",
    "losses=[]\n",
    "# import tqdm notebook\n",
    "for epoch in range(400):\n",
    "    loss_sum=0\n",
    "    # Iteration über alle Batches\n",
    "    for xb, yb in get_batch(x_train, y_train, batch_size):\n",
    "        loss_sum += train(xb, yb)\n",
    "    loss_epoch=loss_sum/len(x_train)\n",
    "    losses.append(loss_epoch)\n",
    "    scheduler.step(loss_epoch)\n",
    "    if epoch % 10 == 0:\n",
    "        print(\"Epoch: \", epoch, \"Loss: \", loss_epoch, \"current_lr: \", optimizer.param_groups[0]['lr'])\n",
    "\n",
    "#plot\n",
    "import matplotlib.pyplot as plt\n",
    "plt.plot(losses)"
   ]
  },
  {
   "cell_type": "code",
   "execution_count": 43,
   "metadata": {
    "collapsed": false,
    "pycharm": {
     "is_executing": true
    }
   },
   "outputs": [
    {
     "name": "stdout",
     "output_type": "stream",
     "text": [
      "Vorhersage: 1991448.0526726323 Tatsächlicher Wert: 519999.9011449155\n",
      "Vorhersage: 1379919.9509447413 Tatsächlicher Wert: 300000.0539133862\n",
      "Vorhersage: 2328724.9672785243 Tatsächlicher Wert: 379999.8510890395\n",
      "Vorhersage: 2344347.4824270736 Tatsächlicher Wert: 530000.1620312294\n",
      "Vorhersage: 2120613.3471424994 Tatsächlicher Wert: 334999.9565656248\n",
      "Vorhersage: 2808306.1870698584 Tatsächlicher Wert: 79999.97254228884\n",
      "Vorhersage: 1530961.367378938 Tatsächlicher Wert: 399999.87473975326\n",
      "Vorhersage: 2695035.565066562 Tatsächlicher Wert: 1000000.1918526388\n",
      "Vorhersage: 1477614.1629237891 Tatsächlicher Wert: 2174999.154171467\n",
      "Vorhersage: 1362941.0354896386 Tatsächlicher Wert: 499999.8565554246\n"
     ]
    }
   ],
   "source": [
    "xb, yb = next(get_batch(x_train, y_train, batch_size=100))\n",
    "y_preds=model(xb)\n",
    "for i in range(10):\n",
    "    print(\"Vorhersage:\", np.exp(y_preds[i].item()), \"Tatsächlicher Wert:\", np.exp(yb[i].item()))\n"
   ]
  },
  {
   "cell_type": "code",
   "execution_count": 44,
   "metadata": {
    "collapsed": false
   },
   "outputs": [
    {
     "name": "stdout",
     "output_type": "stream",
     "text": [
      "Durchschnittliche Abweichung: 0.849487841129303\n"
     ]
    },
    {
     "name": "stderr",
     "output_type": "stream",
     "text": [
      "Bad pipe message: %s [b'h', b'\\x96\\xce\\xe6\\xf6\\xc0\\xaa,\\xdf\\xfci\\xc7\\x9c\\x8b\\xa6Y kz\\\\\\x14:\\xc7 .b\\x82\\xa6d\\xfe\\xe5\\xbbE1V\\xd2\\x87|7\\x92i\\xeb\\x06\\x1e\\xdam:k\\x0c\\x00\\x08\\x13\\x02\\x13\\x03\\x13\\x01\\x00\\xff\\x01\\x00\\x00\\x8f\\x00\\x00\\x00\\x0e\\x00\\x0c\\x00\\x00\\t127.0.0.1\\x00\\x0b\\x00\\x04\\x03\\x00\\x01\\x02\\x00\\n\\x00\\x0c\\x00\\n\\x00\\x1d\\x00\\x17\\x00\\x1e\\x00\\x19\\x00\\x18\\x00#\\x00\\x00\\x00\\x16\\x00\\x00\\x00\\x17\\x00\\x00\\x00\\r\\x00\\x1e\\x00\\x1c\\x04\\x03\\x05\\x03\\x06\\x03\\x08\\x07\\x08\\x08\\x08\\t\\x08\\n\\x08\\x0b', b'\\x08\\x05\\x08\\x06\\x04\\x01\\x05']\n",
      "Bad pipe message: %s [b'']\n",
      "Bad pipe message: %s [b'']\n",
      "Bad pipe message: %s [b'\\x03\\x02\\x03\\x04\\x00-\\x00\\x02\\x01\\x01\\x003\\x00&\\x00$\\x00\\x1d\\x00 7\\x9f\\xbc9\\x9e~\\x066!\\xdb\\xa6\\x1a\\x8ce\\xd1\\x8a\\xc9e$\\x86\\x80\\xb6']\n",
      "Bad pipe message: %s [b\"\\xa6\\x07D\\x87\\x02\\xe6jN\\xff\\x95\\x9fm\\xe9\\xf7\\x15\\xf4\\x0c\\x8a\\x00\\x00|\\xc0,\\xc00\\x00\\xa3\\x00\\x9f\\xcc\\xa9\\xcc\\xa8\\xcc\\xaa\\xc0\\xaf\\xc0\\xad\\xc0\\xa3\\xc0\\x9f\\xc0]\\xc0a\\xc0W\\xc0S\\xc0+\\xc0/\\x00\\xa2\\x00\\x9e\\xc0\\xae\\xc0\\xac\\xc0\\xa2\\xc0\\x9e\\xc0\\\\\\xc0`\\xc0V\\xc0R\\xc0$\\xc0(\\x00k\\x00j\\xc0#\\xc0'\\x00g\\x00@\\xc0\\n\\xc0\\x14\\x009\\x008\\xc0\\t\\xc0\\x13\\x003\\x002\\x00\\x9d\\xc0\\xa1\\xc0\\x9d\\xc0Q\\x00\\x9c\\xc0\\xa0\\xc0\\x9c\\xc0P\\x00=\\x00<\\x005\\x00/\\x00\\x9a\\x00\\x99\\xc0\\x07\\xc0\\x11\\x00\\x96\\x00\\x05\\x00\\xff\\x01\\x00\\x00j\\x00\\x00\\x00\\x0e\\x00\\x0c\\x00\\x00\\t127.0.0.1\\x00\\x0b\\x00\\x04\\x03\\x00\\x01\\x02\\x00\\n\\x00\\x0c\\x00\\n\\x00\\x1d\\x00\\x17\\x00\\x1e\\x00\\x19\\x00\\x18\\x00#\\x00\\x00\\x00\\x16\\x00\\x00\\x00\\x17\\x00\\x00\\x00\\r\\x000\\x00.\\x04\\x03\\x05\\x03\\x06\\x03\\x08\\x07\\x08\\x08\\x08\\t\\x08\\n\\x08\\x0b\\x08\\x04\\x08\\x05\\x08\\x06\\x04\\x01\"]\n",
      "Bad pipe message: %s [b'\\x06\\x01\\x03\\x03', b'\\x03', b'']\n",
      "Bad pipe message: %s [b'', b'\\x02']\n",
      "Bad pipe message: %s [b'\\x05\\x02\\x06']\n",
      "Bad pipe message: %s [b\"J\\xc75\\xb7?<\\xe5S\\xeb\\x99I`\\xb1Y\\xb2*x,\\x00\\x00\\xa6\\xc0,\\xc00\\x00\\xa3\\x00\\x9f\\xcc\\xa9\\xcc\\xa8\\xcc\\xaa\\xc0\\xaf\\xc0\\xad\\xc0\\xa3\\xc0\\x9f\\xc0]\\xc0a\\xc0W\\xc0S\\xc0+\\xc0/\\x00\\xa2\\x00\\x9e\\xc0\\xae\\xc0\\xac\\xc0\\xa2\\xc0\\x9e\\xc0\\\\\\xc0`\\xc0V\\xc0R\\xc0$\\xc0(\\x00k\\x00j\\xc0s\\xc0w\\x00\\xc4\\x00\\xc3\\xc0#\\xc0'\\x00g\\x00@\\xc0r\\xc0v\\x00\\xbe\\x00\\xbd\\xc0\\n\\xc0\\x14\\x009\\x008\\x00\\x88\\x00\\x87\\xc0\\t\\xc0\\x13\\x003\\x002\\x00\"]\n",
      "Bad pipe message: %s [b'\\x99\\x00E\\x00D\\xc0\\x07\\xc0\\x11\\xc0\\x08\\xc0\\x12\\x00\\x16\\x00\\x13\\x00\\x9d\\xc0\\xa1\\xc0\\x9d\\xc0Q\\x00\\x9c\\xc0\\xa0\\xc0\\x9c\\xc0P\\x00=\\x00\\xc0\\x00<\\x00\\xba\\x005\\x00\\x84\\x00/\\x00\\x96\\x00A\\x00\\x05\\x00\\n\\x00\\xff\\x01\\x00\\x00j\\x00\\x00\\x00\\x0e\\x00\\x0c\\x00\\x00\\t127.0.0.1\\x00\\x0b\\x00\\x04\\x03\\x00\\x01\\x02\\x00\\n\\x00\\x0c\\x00\\n\\x00\\x1d\\x00\\x17\\x00\\x1e\\x00\\x19\\x00\\x18\\x00#\\x00\\x00\\x00\\x16\\x00\\x00\\x00\\x17\\x00\\x00\\x00\\r\\x000\\x00.\\x04\\x03\\x05\\x03\\x06\\x03\\x08\\x07\\x08\\x08\\x08\\t\\x08\\n\\x08\\x0b\\x08\\x04\\x08\\x05\\x08\\x06\\x04\\x01\\x05\\x01\\x06\\x01\\x03\\x03\\x02\\x03']\n",
      "Bad pipe message: %s [b'\\x02\\x01', b'\\x02\\x02']\n",
      "Bad pipe message: %s [b'\\x05\\x02\\x06']\n",
      "Bad pipe message: %s [b'\\xbf\\xf6co\\xb8p\\x14\\xd5\\xaf!\\xcb\\xaf\\xb2\\x01*\\x14:\\x95\\x00\\x00>\\xc0\\x14\\xc0\\n\\x009\\x008\\x00', b'6\\xc0\\x0f\\xc0\\x05\\x005\\xc0\\x13\\xc0\\t\\x003\\x002\\x001\\x000\\xc0\\x0e\\xc0\\x04\\x00/\\x00\\x9a\\x00\\x99\\x00\\x98\\x00\\x97\\x00\\x96\\x00\\x07\\xc0\\x11\\xc0\\x07\\xc0\\x0c\\xc0\\x02\\x00\\x05\\x00\\x04\\x00\\xff\\x02\\x01\\x00']\n",
      "Bad pipe message: %s [b'\\xf4=|\\x96\\x86\\xf9\\x18\\xd0\\x06\\xa4G5\\x1a\\xb4@\\xa9\\x9b\\xe9\\x00\\x00>\\xc0\\x14\\xc0\\n\\x009\\x008\\x007\\x006\\xc0\\x0f\\xc0\\x05\\x005\\xc0\\x13\\xc0\\t\\x003\\x002\\x001\\x000\\xc0\\x0e\\xc0\\x04\\x00/\\x00\\x9a\\x00\\x99\\x00\\x98\\x00\\x97\\x00\\x96\\x00\\x07\\xc0\\x11\\xc0\\x07\\xc0\\x0c\\xc0\\x02\\x00\\x05\\x00\\x04\\x00\\xff\\x02\\x01\\x00\\x15\\x03\\x00\\x00\\x02\\x02(']\n",
      "Bad pipe message: %s [b'\\xd5\\xb8,\\xcd\\x05\"\\xbe.\\xe9\\r>l\\xac\\x9a\\xa9\\xca\\x7f\\x00\\x00\\x00\\x86\\xc00\\xc0,\\xc0(\\xc0$\\xc0\\x14\\xc0\\n\\x00\\xa5\\x00\\xa3\\x00\\xa1\\x00\\x9f\\x00k\\x00j\\x00i\\x00h\\x009\\x008\\x007\\x006\\xc02\\xc0.\\xc0*\\xc0&\\xc0\\x0f\\xc0\\x05\\x00\\x9d\\x00=\\x005\\xc0/\\xc0+\\xc0\\'\\xc0#\\xc0\\x13\\xc0\\t\\x00\\xa4\\x00\\xa2\\x00\\xa0\\x00', b'g\\x00@\\x00?\\x00>\\x003\\x002\\x001\\x000\\xc01\\xc0-\\xc0)\\xc0%\\xc0\\x0e\\xc0\\x04\\x00\\x9c\\x00<\\x00/\\x00\\x9a\\x00\\x99\\x00\\x98\\x00\\x97\\x00\\x96\\x00\\x07\\xc0\\x11\\xc0\\x07\\xc0\\x0c\\xc0\\x02\\x00\\x05\\x00\\x04\\x00\\xff\\x02\\x01\\x00\\x00g\\x00\\x00\\x00\\x0e\\x00\\x0c\\x00\\x00\\t127.0.0.1\\x00\\x0b\\x00\\x04\\x03\\x00\\x01\\x02\\x00\\n\\x00\\x1c\\x00\\x1a\\x00\\x17\\x00\\x19\\x00\\x1c\\x00\\x1b\\x00\\x18\\x00\\x1a\\x00\\x16\\x00\\x0e\\x00\\r\\x00\\x0b\\x00\\x0c\\x00\\t\\x00\\n\\x00#\\x00\\x00\\x00\\r\\x00 \\x00\\x1e\\x06\\x01\\x06\\x02\\x06\\x03\\x05\\x01\\x05\\x02\\x05\\x03\\x04\\x01\\x04\\x02\\x04\\x03\\x03\\x01\\x03\\x02\\x03\\x03\\x02']\n",
      "Bad pipe message: %s [b'']\n",
      "Bad pipe message: %s [b'\\x03']\n",
      "Bad pipe message: %s [b\"\\xa4\\x7f\\x10\\xf8\\xb1]\\x0fG\\x0fa\\xcb\\x14\\x92'\\x1b\\x0b{\\xac\\x00\\x00\\xf4\\xc00\\xc0,\\xc0(\\xc0$\\xc0\\x14\\xc0\\n\\x00\\xa5\\x00\\xa3\\x00\\xa1\\x00\\x9f\\x00k\\x00j\\x00i\\x00h\\x009\\x008\\x007\\x006\\x00\\x88\\x00\\x87\\x00\\x86\\x00\\x85\\xc0\\x19\\x00\\xa7\\x00m\\x00:\\x00\\x89\\xc02\\xc0.\\xc0*\\xc0&\\xc0\\x0f\\xc0\\x05\\x00\\x9d\\x00=\\x005\\x00\\x84\\xc0/\\xc0+\\xc0'\\xc0#\\xc0\\x13\\xc0\\t\\x00\\xa4\\x00\\xa2\\x00\\xa0\\x00\\x9e\\x00g\\x00@\\x00?\\x00>\\x003\\x002\\x001\\x000\\x00\", b'\\x99\\x00\\x98\\x00\\x97\\x00E\\x00D\\x00C\\x00B\\xc0\\x18\\x00\\xa6\\x00l\\x004\\x00\\x9b\\x00F\\xc01\\xc0-\\xc0)\\xc0%\\xc0\\x0e\\xc0\\x04\\x00\\x9c\\x00<\\x00/\\x00\\x96\\x00A\\x00\\x07\\xc0\\x11\\xc0\\x07\\xc0\\x16\\x00\\x18\\xc0\\x0c\\xc0\\x02\\x00\\x05\\x00\\x04\\xc0\\x12\\xc0\\x08\\x00\\x16\\x00\\x13\\x00\\x10\\x00\\r\\xc0\\x17\\x00\\x1b\\xc0\\r\\xc0\\x03\\x00\\n\\x00\\x15\\x00\\x12\\x00\\x0f\\x00\\x0c\\x00\\x1a\\x00\\t\\x00\\x14\\x00\\x11\\x00\\x19\\x00\\x08\\x00\\x06\\x00\\x17\\x00\\x03\\xc0\\x10\\xc0\\x06\\xc0\\x15\\xc0\\x0b\\xc0\\x01\\x00;\\x00\\x02\\x00\\x01\\x00\\xff\\x02\\x01\\x00\\x00g\\x00\\x00\\x00\\x0e\\x00\\x0c\\x00\\x00\\t127.0.0.']\n",
      "Bad pipe message: %s [b'\\x0b\\x00\\x04\\x03\\x00\\x01\\x02\\x00\\n\\x00\\x1c\\x00\\x1a\\x00\\x17\\x00\\x19\\x00\\x1c\\x00\\x1b\\x00\\x18\\x00\\x1a\\x00\\x16\\x00\\x0e\\x00\\r\\x00\\x0b\\x00\\x0c\\x00\\t\\x00\\n\\x00#\\x00\\x00\\x00\\r\\x00 \\x00']\n",
      "Bad pipe message: %s [b'\\x01\\x06\\x02\\x06\\x03\\x05\\x01\\x05\\x02\\x05\\x03\\x04\\x01\\x04\\x02\\x04\\x03\\x03\\x01\\x03\\x02\\x03\\x03\\x02\\x01\\x02\\x02\\x02\\x03']\n"
     ]
    }
   ],
   "source": [
    "# testen des Modells\n",
    "x_test_preds=model(x_test)\n",
    "\n",
    "# abweichung der Vorhersage vom tatsächlichen Wert\n",
    "diff=torch.abs(x_test_preds-y_test)\n",
    "print(\"Durchschnittliche Abweichung:\", torch.mean(diff).item())\n"
   ]
  },
  {
   "cell_type": "code",
   "execution_count": null,
   "metadata": {
    "collapsed": false
   },
   "outputs": [],
   "source": []
  },
  {
   "cell_type": "code",
   "execution_count": null,
   "metadata": {},
   "outputs": [],
   "source": []
  },
  {
   "cell_type": "code",
   "execution_count": null,
   "metadata": {},
   "outputs": [],
   "source": []
  }
 ],
 "metadata": {
  "kernelspec": {
   "display_name": "Python 3",
   "language": "python",
   "name": "python3"
  },
  "language_info": {
   "codemirror_mode": {
    "name": "ipython",
    "version": 3
   },
   "file_extension": ".py",
   "mimetype": "text/x-python",
   "name": "python",
   "nbconvert_exporter": "python",
   "pygments_lexer": "ipython3",
   "version": "3.10.4"
  }
 },
 "nbformat": 4,
 "nbformat_minor": 0
}
